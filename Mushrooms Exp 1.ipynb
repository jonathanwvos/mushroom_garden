{
 "cells": [
  {
   "attachments": {},
   "cell_type": "markdown",
   "id": "ca29cf2a",
   "metadata": {},
   "source": [
    "# Synopsis\n",
    "The purpose of this experiment is to compress image data with image quantization using KMeans clustering and compare the quantized images with the original images using the euclidean distance between pixels as a metric. The lower the euclidean distance the closer the pixel values are to each other and therefore the better the compression. The experiment will include a quantitative assessment (processing numerical values) and a qualitative assesment (visually inspecting the quantized images). To fully test this idea, the number of clusters will be varied from 1 to 15 and the distance will be plotted as a surface. The quantitative assessment will include calculating the average euclidean distance for the entire data set for each number of clusters and finding the lowest euclidean distance. This will inform the optimal number of clusters needed for compression. The qualitative assessment will inspect the quantized images to determine if the expressiveness of the original images is not lost, since images contain both chromatic and textural properties. For the experiment to be a success, the qualitative and quantitative assessments but agree that the compression was effective."
   ]
  },
  {
   "attachments": {},
   "cell_type": "markdown",
   "id": "35e3fda6",
   "metadata": {},
   "source": [
    "# Imports"
   ]
  },
  {
   "cell_type": "code",
   "execution_count": null,
   "id": "664e61bc",
   "metadata": {},
   "outputs": [],
   "source": [
    "# Automatically reload external code if changes are made\n",
    "%load_ext autoreload\n",
    "%autoreload 2\n",
    "\n",
    "from mushrooms import MushroomGarden"
   ]
  },
  {
   "cell_type": "code",
   "execution_count": null,
   "id": "d53a97f0",
   "metadata": {},
   "outputs": [],
   "source": [
    "from json import loads\n",
    "from os.path import join\n",
    "from matplotlib.animation import FuncAnimation\n",
    "from mpl_toolkits.mplot3d import Axes3D\n",
    "\n",
    "import cv2\n",
    "import numpy as np\n",
    "import matplotlib.pyplot as plt"
   ]
  },
  {
   "cell_type": "code",
   "execution_count": null,
   "id": "019ce847",
   "metadata": {},
   "outputs": [],
   "source": [
    "# The class containing all logic needed for the experiment\n",
    "mg = MushroomGarden()"
   ]
  },
  {
   "attachments": {},
   "cell_type": "markdown",
   "id": "d925c6ed",
   "metadata": {},
   "source": [
    "# Data\n",
    "## Examples\n",
    "Display an example from each species of mushroom."
   ]
  },
  {
   "cell_type": "code",
   "execution_count": null,
   "id": "cf472c36",
   "metadata": {},
   "outputs": [],
   "source": [
    "examples = []\n",
    "\n",
    "fig = plt.figure(figsize=(20,8))\n",
    "\n",
    "for id, (species, filename, bgr_im) in enumerate(mg.random_example_set()):\n",
    "    rgb_im = cv2.cvtColor(bgr_im, cv2.COLOR_BGR2RGB)\n",
    "    rgb_im = mg.preprocess_image(rgb_im)\n",
    "    \n",
    "    plt.subplot(2, 6, id+1)\n",
    "    \n",
    "    plt.axis('off')\n",
    "    plt.title(f'{species.upper()}:\\n{filename}')\n",
    "    plt.imshow(rgb_im)"
   ]
  },
  {
   "attachments": {},
   "cell_type": "markdown",
   "id": "999039fb",
   "metadata": {},
   "source": [
    "## Image Count Distribution\n",
    "Determine the distribution of data. This will inform how many samples are needed to perform the experiment with fair representation."
   ]
  },
  {
   "cell_type": "code",
   "execution_count": null,
   "id": "e9120580",
   "metadata": {
    "scrolled": false
   },
   "outputs": [],
   "source": [
    "labels = mg.species\n",
    "values = list(mg.metadata.values())\n",
    "\n",
    "fig = plt.figure()\n",
    "plt.bar(labels, values)\n",
    "plt.title('# of images per mushroom type')\n",
    "plt.xlabel('Mushroom species')\n",
    "plt.xticks(rotation=50)\n",
    "plt.ylabel('# of images')\n",
    "plt.grid(axis='y', linestyle='--')\n",
    "plt.show()"
   ]
  },
  {
   "attachments": {},
   "cell_type": "markdown",
   "id": "7430bbc2",
   "metadata": {},
   "source": [
    "Given the imbalanced nature of the data, we will opt for an undersampling method of 200 images per mushroom type, ensuring that at least 10% of each type is represented."
   ]
  },
  {
   "attachments": {},
   "cell_type": "markdown",
   "id": "682d16c2",
   "metadata": {},
   "source": [
    "## Process all samples to produce average euclidean distance per no. of clusters\n",
    "Gather 200 samples from each species and determine the average euclidean distance for a given number of clusters."
   ]
  },
  {
   "cell_type": "code",
   "execution_count": null,
   "id": "07a1cbb0",
   "metadata": {},
   "outputs": [],
   "source": [
    "# This code block is commented out because the process duration is long.\n",
    "# Run only once and reuse the saved outputs for further processing.\n",
    "# Uncomment and rerun if the core logic changes.\n",
    "# For faster iteration, use a smaller sample size.\n",
    "\n",
    "# SAMPLE_SIZE = 200\n",
    "# NO_CLUSTERS = 15\n",
    "\n",
    "# for no_clusters in range(1, NO_CLUSTERS+1):\n",
    "#     mg.process_all_samples(SAMPLE_SIZE, no_clusters)"
   ]
  },
  {
   "attachments": {},
   "cell_type": "markdown",
   "id": "8f156ec9",
   "metadata": {},
   "source": [
    "If the cell above was run the results will have been saved in the parent directory to prevent accidental overwritting. Please create the following directory `data/results` and move the results there."
   ]
  },
  {
   "attachments": {},
   "cell_type": "markdown",
   "id": "419671a0",
   "metadata": {},
   "source": [
    "# Process results from various # of clusters\n",
    "Gather all results into a single list for further processing.\n",
    "\n",
    "This logic assumes that the following directory exists `data/results`."
   ]
  },
  {
   "cell_type": "code",
   "execution_count": null,
   "id": "4830ed22",
   "metadata": {},
   "outputs": [],
   "source": [
    "results = []\n",
    "for no_clusters in range(1,16):\n",
    "    with open(join('data', 'results', f'{no_clusters}_results.json')) as f:\n",
    "        json_result = loads(f.read())\n",
    "        \n",
    "        results.append(json_result['avg_mush_euclidean'])"
   ]
  },
  {
   "attachments": {},
   "cell_type": "markdown",
   "id": "7c7baeb3",
   "metadata": {},
   "source": [
    "We can now begin the quantitative assessment.\n",
    "\n",
    "Display the results as an interactive 3D surface."
   ]
  },
  {
   "cell_type": "code",
   "execution_count": null,
   "id": "9c1ed2b3",
   "metadata": {
    "scrolled": false
   },
   "outputs": [],
   "source": [
    "%matplotlib widget\n",
    "\n",
    "# Generate some data for the surface plot\n",
    "x = np.linspace(1, 11, 11)\n",
    "y = np.linspace(1, no_clusters, no_clusters)\n",
    "X, Y = np.meshgrid(x, y)\n",
    "Z1 = np.array(results)\n",
    "\n",
    "# Create the figure and axis objects\n",
    "fig1 = plt.figure()\n",
    "ax1 = fig1.add_subplot(111, projection='3d')\n",
    "\n",
    "# Plot the surface\n",
    "surf1 = ax1.plot_surface(X, Y, Z1, cmap='viridis')\n",
    "\n",
    "# Set labels and title\n",
    "ax1.set_xlabel('Mushrooms species')\n",
    "ax1.set_ylabel('# of clusters')\n",
    "ax1.set_zlabel('Euclidean distance')\n",
    "ax1.set_title('Surface plot of avg. euclidean distances')\n",
    "\n",
    "# Show the plot\n",
    "plt.show()"
   ]
  },
  {
   "attachments": {},
   "cell_type": "markdown",
   "id": "7d86fb45",
   "metadata": {},
   "source": [
    "The results are a little difficult to visually inspect, so let's create an approximate logarithmic fit to the data so that we can interpret it more easily."
   ]
  },
  {
   "cell_type": "code",
   "execution_count": null,
   "id": "d29ae9db",
   "metadata": {},
   "outputs": [],
   "source": [
    "%matplotlib widget\n",
    "\n",
    "Z2 = []\n",
    "x2 = np.linspace(1, 100, 100)\n",
    "y2 = np.linspace(1, no_clusters, no_clusters)\n",
    "X, Y = np.meshgrid(x2, y2)\n",
    "\n",
    "for r in results:\n",
    "    x_fit = np.linspace(1, len(r), 100)\n",
    "    coefficients = np.polyfit(np.log(r), x, deg=1)\n",
    "    z = np.polyval(coefficients, np.log(x_fit))\n",
    "    Z2.append(-z)\n",
    "\n",
    "Z2 = np.array(Z2)\n",
    "fig2 = plt.figure()\n",
    "ax2 = fig2.add_subplot(111, projection='3d')\n",
    "\n",
    "surf2 = ax2.plot_surface(X, Y, Z2, cmap='viridis')\n",
    "ax2.set_xlabel('Corresponding species')\n",
    "ax2.set_ylabel('# of clusters')\n",
    "ax2.set_zlabel('-log euclid. distance')\n",
    "ax2.set_title('Negative Logarithmic fit to avg. euclidean distances')\n",
    "plt.show()"
   ]
  },
  {
   "attachments": {},
   "cell_type": "markdown",
   "id": "d5551fc2",
   "metadata": {},
   "source": [
    "The approximate fit over accentuates certain features of the original plot but still maintains relative distances well enough. From this plot we can see that the 2 to 6 range has the lowest euclidean distance. We can now perform the qualitative assessment with this in mind."
   ]
  },
  {
   "attachments": {},
   "cell_type": "markdown",
   "id": "08e10437",
   "metadata": {},
   "source": [
    "# Image Quantization\n",
    "The following cell contains a function for display quantized images and also retrieves a single sample for visual inspection for every cluster chosen."
   ]
  },
  {
   "cell_type": "code",
   "execution_count": null,
   "id": "36cc9ff9",
   "metadata": {},
   "outputs": [],
   "source": [
    "(species, filename, bgr_im) = mg.random_example_set().__next__()\n",
    "\n",
    "def orig_quant_comparison(species, filename, orig, no_clusters):\n",
    "    fig = plt.figure(figsize=(10, 4))\n",
    "\n",
    "    filepath = join('data', 'species', species, filename)\n",
    "    rgb_im = cv2.cvtColor(orig, cv2.COLOR_BGR2RGB)\n",
    "    quant1 = mg.quantize_image(filepath, no_clusters)\n",
    "    rgb_quant1 = cv2.cvtColor(quant1, cv2.COLOR_BGR2RGB)\n",
    "\n",
    "    plt.subplot(1, 2, 1)\n",
    "    plt.axis('off')\n",
    "    plt.imshow(rgb_im)\n",
    "\n",
    "    plt.subplot(1, 2, 2)\n",
    "    plt.axis('off')\n",
    "    plt.imshow(rgb_quant1)\n",
    "\n",
    "    plt.show()\n"
   ]
  },
  {
   "attachments": {},
   "cell_type": "markdown",
   "id": "1d93fcd6",
   "metadata": {},
   "source": [
    "## Quantization with 2 clusters"
   ]
  },
  {
   "cell_type": "code",
   "execution_count": null,
   "id": "19afdeb4",
   "metadata": {},
   "outputs": [],
   "source": [
    "orig_quant_comparison(species, filename, bgr_im, 2)"
   ]
  },
  {
   "attachments": {},
   "cell_type": "markdown",
   "id": "940b2cb3",
   "metadata": {},
   "source": [
    "## Quantization with 3 clusters"
   ]
  },
  {
   "cell_type": "code",
   "execution_count": null,
   "id": "ee599316",
   "metadata": {},
   "outputs": [],
   "source": [
    "orig_quant_comparison(species, filename, bgr_im, 3)"
   ]
  },
  {
   "attachments": {},
   "cell_type": "markdown",
   "id": "16faea9a",
   "metadata": {},
   "source": [
    "## Quantization with 4 clusters"
   ]
  },
  {
   "cell_type": "code",
   "execution_count": null,
   "id": "9384874b",
   "metadata": {},
   "outputs": [],
   "source": [
    "orig_quant_comparison(species, filename, bgr_im, 4)"
   ]
  },
  {
   "attachments": {},
   "cell_type": "markdown",
   "id": "93ac4709",
   "metadata": {},
   "source": [
    "## Quantization with 5 clusters"
   ]
  },
  {
   "cell_type": "code",
   "execution_count": null,
   "id": "a6b9cd0b",
   "metadata": {},
   "outputs": [],
   "source": [
    "orig_quant_comparison(species, filename, bgr_im, 5)"
   ]
  },
  {
   "attachments": {},
   "cell_type": "markdown",
   "id": "6c18f40e",
   "metadata": {},
   "source": [
    "## Quantization with 6 clusters"
   ]
  },
  {
   "cell_type": "code",
   "execution_count": null,
   "id": "ea7783b3",
   "metadata": {},
   "outputs": [],
   "source": [
    "orig_quant_comparison(species, filename, bgr_im, 6)"
   ]
  },
  {
   "attachments": {},
   "cell_type": "markdown",
   "id": "67e77e91",
   "metadata": {},
   "source": [
    "## Quantization with 15 clusters"
   ]
  },
  {
   "cell_type": "code",
   "execution_count": null,
   "id": "8bd0a084",
   "metadata": {},
   "outputs": [],
   "source": [
    "orig_quant_comparison(species, filename, bgr_im, 15)"
   ]
  },
  {
   "attachments": {},
   "cell_type": "markdown",
   "id": "a709e933",
   "metadata": {},
   "source": [
    "The above cells display quantized images for clusters 2-6. It is clear that this low number of clusters doesn't retain enough detail to fully express the qualities of the image. A cluster 15 quantized image is also provided for contrast. In this case, detail is preserved for both mushrooms and backgrounds."
   ]
  },
  {
   "attachments": {},
   "cell_type": "markdown",
   "id": "4304f3ec",
   "metadata": {},
   "source": [
    "# Conclusion\n",
    "The quantitative assessment suggests that between 2 and 6 clusters (inclusive) is the optimal number to quantize an image. However, the qualitative assessment doesn't support this hypothesis. Given that both the quantitative and qualitative assessments must agree in order for a hypothesis to be potentially valid, this means that no further investigation is necessary as the hypothesis is invalid. In order to improve these results, perhaps a different clustering method or a different metric would be better. Follow up experiments would need to be conducted for all combinations of metrics and clustering algorithms."
   ]
  }
 ],
 "metadata": {
  "kernelspec": {
   "display_name": "Python 3 (ipykernel)",
   "language": "python",
   "name": "python3"
  },
  "language_info": {
   "codemirror_mode": {
    "name": "ipython",
    "version": 3
   },
   "file_extension": ".py",
   "mimetype": "text/x-python",
   "name": "python",
   "nbconvert_exporter": "python",
   "pygments_lexer": "ipython3",
   "version": "3.10.0"
  }
 },
 "nbformat": 4,
 "nbformat_minor": 5
}
